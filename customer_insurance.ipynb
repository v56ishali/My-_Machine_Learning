{
  "nbformat": 4,
  "nbformat_minor": 0,
  "metadata": {
    "colab": {
      "provenance": []
    },
    "kernelspec": {
      "name": "python3",
      "display_name": "Python 3"
    },
    "language_info": {
      "name": "python"
    }
  },
  "cells": [
    {
      "cell_type": "code",
      "execution_count": 2,
      "metadata": {
        "id": "81U6P6jkpk__"
      },
      "outputs": [],
      "source": [
        "import pandas as pd\n",
        "import numpy as np\n",
        "import matplotlib.pyplot as plt\n",
        "import seaborn as sns\n",
        "from sklearn.cluster import KMeans"
      ]
    },
    {
      "cell_type": "code",
      "source": [
        "ic=pd.read_csv('/content/insurance_customer_data.csv')"
      ],
      "metadata": {
        "id": "Jl2qdhSsqbhG"
      },
      "execution_count": 3,
      "outputs": []
    },
    {
      "cell_type": "code",
      "source": [
        "ic.head()"
      ],
      "metadata": {
        "colab": {
          "base_uri": "https://localhost:8080/",
          "height": 206
        },
        "id": "g7QgsuIbqna9",
        "outputId": "049cee19-db1a-4ccc-9b67-26f9bd614ccb"
      },
      "execution_count": 4,
      "outputs": [
        {
          "output_type": "execute_result",
          "data": {
            "text/plain": [
              "   Age  Gender  Annual_Income  ...  Total_Claim_Amount  Policy_Type Marital_Status\n",
              "0   56  Female          25895  ...             2929.18         Home         Single\n",
              "1   69  Female          39738  ...             1928.72         Life        Married\n",
              "2   46    Male          50746  ...             1266.54       Health        Married\n",
              "3   32    Male          69377  ...             1299.47       Health         Single\n",
              "4   60  Female          68404  ...             1597.14         Life        Married\n",
              "\n",
              "[5 rows x 7 columns]"
            ],
            "text/html": [
              "\n",
              "  <div id=\"df-702f668f-4764-474e-b519-d631826bd9aa\" class=\"colab-df-container\">\n",
              "    <div>\n",
              "<style scoped>\n",
              "    .dataframe tbody tr th:only-of-type {\n",
              "        vertical-align: middle;\n",
              "    }\n",
              "\n",
              "    .dataframe tbody tr th {\n",
              "        vertical-align: top;\n",
              "    }\n",
              "\n",
              "    .dataframe thead th {\n",
              "        text-align: right;\n",
              "    }\n",
              "</style>\n",
              "<table border=\"1\" class=\"dataframe\">\n",
              "  <thead>\n",
              "    <tr style=\"text-align: right;\">\n",
              "      <th></th>\n",
              "      <th>Age</th>\n",
              "      <th>Gender</th>\n",
              "      <th>Annual_Income</th>\n",
              "      <th>Number_of_Claims</th>\n",
              "      <th>Total_Claim_Amount</th>\n",
              "      <th>Policy_Type</th>\n",
              "      <th>Marital_Status</th>\n",
              "    </tr>\n",
              "  </thead>\n",
              "  <tbody>\n",
              "    <tr>\n",
              "      <th>0</th>\n",
              "      <td>56</td>\n",
              "      <td>Female</td>\n",
              "      <td>25895</td>\n",
              "      <td>2</td>\n",
              "      <td>2929.18</td>\n",
              "      <td>Home</td>\n",
              "      <td>Single</td>\n",
              "    </tr>\n",
              "    <tr>\n",
              "      <th>1</th>\n",
              "      <td>69</td>\n",
              "      <td>Female</td>\n",
              "      <td>39738</td>\n",
              "      <td>5</td>\n",
              "      <td>1928.72</td>\n",
              "      <td>Life</td>\n",
              "      <td>Married</td>\n",
              "    </tr>\n",
              "    <tr>\n",
              "      <th>2</th>\n",
              "      <td>46</td>\n",
              "      <td>Male</td>\n",
              "      <td>50746</td>\n",
              "      <td>1</td>\n",
              "      <td>1266.54</td>\n",
              "      <td>Health</td>\n",
              "      <td>Married</td>\n",
              "    </tr>\n",
              "    <tr>\n",
              "      <th>3</th>\n",
              "      <td>32</td>\n",
              "      <td>Male</td>\n",
              "      <td>69377</td>\n",
              "      <td>1</td>\n",
              "      <td>1299.47</td>\n",
              "      <td>Health</td>\n",
              "      <td>Single</td>\n",
              "    </tr>\n",
              "    <tr>\n",
              "      <th>4</th>\n",
              "      <td>60</td>\n",
              "      <td>Female</td>\n",
              "      <td>68404</td>\n",
              "      <td>3</td>\n",
              "      <td>1597.14</td>\n",
              "      <td>Life</td>\n",
              "      <td>Married</td>\n",
              "    </tr>\n",
              "  </tbody>\n",
              "</table>\n",
              "</div>\n",
              "    <div class=\"colab-df-buttons\">\n",
              "\n",
              "  <div class=\"colab-df-container\">\n",
              "    <button class=\"colab-df-convert\" onclick=\"convertToInteractive('df-702f668f-4764-474e-b519-d631826bd9aa')\"\n",
              "            title=\"Convert this dataframe to an interactive table.\"\n",
              "            style=\"display:none;\">\n",
              "\n",
              "  <svg xmlns=\"http://www.w3.org/2000/svg\" height=\"24px\" viewBox=\"0 -960 960 960\">\n",
              "    <path d=\"M120-120v-720h720v720H120Zm60-500h600v-160H180v160Zm220 220h160v-160H400v160Zm0 220h160v-160H400v160ZM180-400h160v-160H180v160Zm440 0h160v-160H620v160ZM180-180h160v-160H180v160Zm440 0h160v-160H620v160Z\"/>\n",
              "  </svg>\n",
              "    </button>\n",
              "\n",
              "  <style>\n",
              "    .colab-df-container {\n",
              "      display:flex;\n",
              "      gap: 12px;\n",
              "    }\n",
              "\n",
              "    .colab-df-convert {\n",
              "      background-color: #E8F0FE;\n",
              "      border: none;\n",
              "      border-radius: 50%;\n",
              "      cursor: pointer;\n",
              "      display: none;\n",
              "      fill: #1967D2;\n",
              "      height: 32px;\n",
              "      padding: 0 0 0 0;\n",
              "      width: 32px;\n",
              "    }\n",
              "\n",
              "    .colab-df-convert:hover {\n",
              "      background-color: #E2EBFA;\n",
              "      box-shadow: 0px 1px 2px rgba(60, 64, 67, 0.3), 0px 1px 3px 1px rgba(60, 64, 67, 0.15);\n",
              "      fill: #174EA6;\n",
              "    }\n",
              "\n",
              "    .colab-df-buttons div {\n",
              "      margin-bottom: 4px;\n",
              "    }\n",
              "\n",
              "    [theme=dark] .colab-df-convert {\n",
              "      background-color: #3B4455;\n",
              "      fill: #D2E3FC;\n",
              "    }\n",
              "\n",
              "    [theme=dark] .colab-df-convert:hover {\n",
              "      background-color: #434B5C;\n",
              "      box-shadow: 0px 1px 3px 1px rgba(0, 0, 0, 0.15);\n",
              "      filter: drop-shadow(0px 1px 2px rgba(0, 0, 0, 0.3));\n",
              "      fill: #FFFFFF;\n",
              "    }\n",
              "  </style>\n",
              "\n",
              "    <script>\n",
              "      const buttonEl =\n",
              "        document.querySelector('#df-702f668f-4764-474e-b519-d631826bd9aa button.colab-df-convert');\n",
              "      buttonEl.style.display =\n",
              "        google.colab.kernel.accessAllowed ? 'block' : 'none';\n",
              "\n",
              "      async function convertToInteractive(key) {\n",
              "        const element = document.querySelector('#df-702f668f-4764-474e-b519-d631826bd9aa');\n",
              "        const dataTable =\n",
              "          await google.colab.kernel.invokeFunction('convertToInteractive',\n",
              "                                                    [key], {});\n",
              "        if (!dataTable) return;\n",
              "\n",
              "        const docLinkHtml = 'Like what you see? Visit the ' +\n",
              "          '<a target=\"_blank\" href=https://colab.research.google.com/notebooks/data_table.ipynb>data table notebook</a>'\n",
              "          + ' to learn more about interactive tables.';\n",
              "        element.innerHTML = '';\n",
              "        dataTable['output_type'] = 'display_data';\n",
              "        await google.colab.output.renderOutput(dataTable, element);\n",
              "        const docLink = document.createElement('div');\n",
              "        docLink.innerHTML = docLinkHtml;\n",
              "        element.appendChild(docLink);\n",
              "      }\n",
              "    </script>\n",
              "  </div>\n",
              "\n",
              "\n",
              "    <div id=\"df-9368d5d3-d8a0-4db3-bf07-f8dcc0877c35\">\n",
              "      <button class=\"colab-df-quickchart\" onclick=\"quickchart('df-9368d5d3-d8a0-4db3-bf07-f8dcc0877c35')\"\n",
              "                title=\"Suggest charts\"\n",
              "                style=\"display:none;\">\n",
              "\n",
              "<svg xmlns=\"http://www.w3.org/2000/svg\" height=\"24px\"viewBox=\"0 0 24 24\"\n",
              "     width=\"24px\">\n",
              "    <g>\n",
              "        <path d=\"M19 3H5c-1.1 0-2 .9-2 2v14c0 1.1.9 2 2 2h14c1.1 0 2-.9 2-2V5c0-1.1-.9-2-2-2zM9 17H7v-7h2v7zm4 0h-2V7h2v10zm4 0h-2v-4h2v4z\"/>\n",
              "    </g>\n",
              "</svg>\n",
              "      </button>\n",
              "\n",
              "<style>\n",
              "  .colab-df-quickchart {\n",
              "      --bg-color: #E8F0FE;\n",
              "      --fill-color: #1967D2;\n",
              "      --hover-bg-color: #E2EBFA;\n",
              "      --hover-fill-color: #174EA6;\n",
              "      --disabled-fill-color: #AAA;\n",
              "      --disabled-bg-color: #DDD;\n",
              "  }\n",
              "\n",
              "  [theme=dark] .colab-df-quickchart {\n",
              "      --bg-color: #3B4455;\n",
              "      --fill-color: #D2E3FC;\n",
              "      --hover-bg-color: #434B5C;\n",
              "      --hover-fill-color: #FFFFFF;\n",
              "      --disabled-bg-color: #3B4455;\n",
              "      --disabled-fill-color: #666;\n",
              "  }\n",
              "\n",
              "  .colab-df-quickchart {\n",
              "    background-color: var(--bg-color);\n",
              "    border: none;\n",
              "    border-radius: 50%;\n",
              "    cursor: pointer;\n",
              "    display: none;\n",
              "    fill: var(--fill-color);\n",
              "    height: 32px;\n",
              "    padding: 0;\n",
              "    width: 32px;\n",
              "  }\n",
              "\n",
              "  .colab-df-quickchart:hover {\n",
              "    background-color: var(--hover-bg-color);\n",
              "    box-shadow: 0 1px 2px rgba(60, 64, 67, 0.3), 0 1px 3px 1px rgba(60, 64, 67, 0.15);\n",
              "    fill: var(--button-hover-fill-color);\n",
              "  }\n",
              "\n",
              "  .colab-df-quickchart-complete:disabled,\n",
              "  .colab-df-quickchart-complete:disabled:hover {\n",
              "    background-color: var(--disabled-bg-color);\n",
              "    fill: var(--disabled-fill-color);\n",
              "    box-shadow: none;\n",
              "  }\n",
              "\n",
              "  .colab-df-spinner {\n",
              "    border: 2px solid var(--fill-color);\n",
              "    border-color: transparent;\n",
              "    border-bottom-color: var(--fill-color);\n",
              "    animation:\n",
              "      spin 1s steps(1) infinite;\n",
              "  }\n",
              "\n",
              "  @keyframes spin {\n",
              "    0% {\n",
              "      border-color: transparent;\n",
              "      border-bottom-color: var(--fill-color);\n",
              "      border-left-color: var(--fill-color);\n",
              "    }\n",
              "    20% {\n",
              "      border-color: transparent;\n",
              "      border-left-color: var(--fill-color);\n",
              "      border-top-color: var(--fill-color);\n",
              "    }\n",
              "    30% {\n",
              "      border-color: transparent;\n",
              "      border-left-color: var(--fill-color);\n",
              "      border-top-color: var(--fill-color);\n",
              "      border-right-color: var(--fill-color);\n",
              "    }\n",
              "    40% {\n",
              "      border-color: transparent;\n",
              "      border-right-color: var(--fill-color);\n",
              "      border-top-color: var(--fill-color);\n",
              "    }\n",
              "    60% {\n",
              "      border-color: transparent;\n",
              "      border-right-color: var(--fill-color);\n",
              "    }\n",
              "    80% {\n",
              "      border-color: transparent;\n",
              "      border-right-color: var(--fill-color);\n",
              "      border-bottom-color: var(--fill-color);\n",
              "    }\n",
              "    90% {\n",
              "      border-color: transparent;\n",
              "      border-bottom-color: var(--fill-color);\n",
              "    }\n",
              "  }\n",
              "</style>\n",
              "\n",
              "      <script>\n",
              "        async function quickchart(key) {\n",
              "          const quickchartButtonEl =\n",
              "            document.querySelector('#' + key + ' button');\n",
              "          quickchartButtonEl.disabled = true;  // To prevent multiple clicks.\n",
              "          quickchartButtonEl.classList.add('colab-df-spinner');\n",
              "          try {\n",
              "            const charts = await google.colab.kernel.invokeFunction(\n",
              "                'suggestCharts', [key], {});\n",
              "          } catch (error) {\n",
              "            console.error('Error during call to suggestCharts:', error);\n",
              "          }\n",
              "          quickchartButtonEl.classList.remove('colab-df-spinner');\n",
              "          quickchartButtonEl.classList.add('colab-df-quickchart-complete');\n",
              "        }\n",
              "        (() => {\n",
              "          let quickchartButtonEl =\n",
              "            document.querySelector('#df-9368d5d3-d8a0-4db3-bf07-f8dcc0877c35 button');\n",
              "          quickchartButtonEl.style.display =\n",
              "            google.colab.kernel.accessAllowed ? 'block' : 'none';\n",
              "        })();\n",
              "      </script>\n",
              "    </div>\n",
              "\n",
              "    </div>\n",
              "  </div>\n"
            ],
            "application/vnd.google.colaboratory.intrinsic+json": {
              "type": "dataframe",
              "variable_name": "ic",
              "summary": "{\n  \"name\": \"ic\",\n  \"rows\": 200,\n  \"fields\": [\n    {\n      \"column\": \"Age\",\n      \"properties\": {\n        \"dtype\": \"number\",\n        \"std\": 14,\n        \"min\": 18,\n        \"max\": 69,\n        \"num_unique_values\": 51,\n        \"samples\": [\n          48,\n          23,\n          58\n        ],\n        \"semantic_type\": \"\",\n        \"description\": \"\"\n      }\n    },\n    {\n      \"column\": \"Gender\",\n      \"properties\": {\n        \"dtype\": \"category\",\n        \"num_unique_values\": 2,\n        \"samples\": [\n          \"Male\",\n          \"Female\"\n        ],\n        \"semantic_type\": \"\",\n        \"description\": \"\"\n      }\n    },\n    {\n      \"column\": \"Annual_Income\",\n      \"properties\": {\n        \"dtype\": \"number\",\n        \"std\": 29158,\n        \"min\": 20301,\n        \"max\": 119713,\n        \"num_unique_values\": 200,\n        \"samples\": [\n          35338,\n          93744\n        ],\n        \"semantic_type\": \"\",\n        \"description\": \"\"\n      }\n    },\n    {\n      \"column\": \"Number_of_Claims\",\n      \"properties\": {\n        \"dtype\": \"number\",\n        \"std\": 1,\n        \"min\": 0,\n        \"max\": 7,\n        \"num_unique_values\": 8,\n        \"samples\": [\n          5,\n          7\n        ],\n        \"semantic_type\": \"\",\n        \"description\": \"\"\n      }\n    },\n    {\n      \"column\": \"Total_Claim_Amount\",\n      \"properties\": {\n        \"dtype\": \"number\",\n        \"std\": 3379.6742249174504,\n        \"min\": 0.71,\n        \"max\": 22031.81,\n        \"num_unique_values\": 199,\n        \"samples\": [\n          288.54,\n          4941.89\n        ],\n        \"semantic_type\": \"\",\n        \"description\": \"\"\n      }\n    },\n    {\n      \"column\": \"Policy_Type\",\n      \"properties\": {\n        \"dtype\": \"category\",\n        \"num_unique_values\": 4,\n        \"samples\": [\n          \"Life\",\n          \"Auto\"\n        ],\n        \"semantic_type\": \"\",\n        \"description\": \"\"\n      }\n    },\n    {\n      \"column\": \"Marital_Status\",\n      \"properties\": {\n        \"dtype\": \"category\",\n        \"num_unique_values\": 3,\n        \"samples\": [\n          \"Single\",\n          \"Married\"\n        ],\n        \"semantic_type\": \"\",\n        \"description\": \"\"\n      }\n    }\n  ]\n}"
            }
          },
          "metadata": {},
          "execution_count": 4
        }
      ]
    },
    {
      "cell_type": "code",
      "source": [
        "ic.shape"
      ],
      "metadata": {
        "colab": {
          "base_uri": "https://localhost:8080/"
        },
        "id": "8PYFE-xIqs6F",
        "outputId": "43e8ac6c-df15-489a-b518-8b12a2855fb1"
      },
      "execution_count": 6,
      "outputs": [
        {
          "output_type": "execute_result",
          "data": {
            "text/plain": [
              "(200, 7)"
            ]
          },
          "metadata": {},
          "execution_count": 6
        }
      ]
    },
    {
      "cell_type": "code",
      "source": [
        "ic.info()"
      ],
      "metadata": {
        "colab": {
          "base_uri": "https://localhost:8080/"
        },
        "id": "DeH0LFJ_q5Oe",
        "outputId": "8d919f46-a67d-479c-ea48-443756ccd429"
      },
      "execution_count": 7,
      "outputs": [
        {
          "output_type": "stream",
          "name": "stdout",
          "text": [
            "<class 'pandas.core.frame.DataFrame'>\n",
            "RangeIndex: 200 entries, 0 to 199\n",
            "Data columns (total 7 columns):\n",
            " #   Column              Non-Null Count  Dtype  \n",
            "---  ------              --------------  -----  \n",
            " 0   Age                 200 non-null    int64  \n",
            " 1   Gender              200 non-null    object \n",
            " 2   Annual_Income       200 non-null    int64  \n",
            " 3   Number_of_Claims    200 non-null    int64  \n",
            " 4   Total_Claim_Amount  200 non-null    float64\n",
            " 5   Policy_Type         200 non-null    object \n",
            " 6   Marital_Status      200 non-null    object \n",
            "dtypes: float64(1), int64(3), object(3)\n",
            "memory usage: 11.1+ KB\n"
          ]
        }
      ]
    },
    {
      "cell_type": "code",
      "source": [
        "ic.isnull().sum()"
      ],
      "metadata": {
        "colab": {
          "base_uri": "https://localhost:8080/",
          "height": 303
        },
        "id": "CpBwAxexrDE-",
        "outputId": "3df41cd9-fdae-4645-aaf3-713a1433a842"
      },
      "execution_count": 8,
      "outputs": [
        {
          "output_type": "execute_result",
          "data": {
            "text/plain": [
              "Age                   0\n",
              "Gender                0\n",
              "Annual_Income         0\n",
              "Number_of_Claims      0\n",
              "Total_Claim_Amount    0\n",
              "Policy_Type           0\n",
              "Marital_Status        0\n",
              "dtype: int64"
            ],
            "text/html": [
              "<div>\n",
              "<style scoped>\n",
              "    .dataframe tbody tr th:only-of-type {\n",
              "        vertical-align: middle;\n",
              "    }\n",
              "\n",
              "    .dataframe tbody tr th {\n",
              "        vertical-align: top;\n",
              "    }\n",
              "\n",
              "    .dataframe thead th {\n",
              "        text-align: right;\n",
              "    }\n",
              "</style>\n",
              "<table border=\"1\" class=\"dataframe\">\n",
              "  <thead>\n",
              "    <tr style=\"text-align: right;\">\n",
              "      <th></th>\n",
              "      <th>0</th>\n",
              "    </tr>\n",
              "  </thead>\n",
              "  <tbody>\n",
              "    <tr>\n",
              "      <th>Age</th>\n",
              "      <td>0</td>\n",
              "    </tr>\n",
              "    <tr>\n",
              "      <th>Gender</th>\n",
              "      <td>0</td>\n",
              "    </tr>\n",
              "    <tr>\n",
              "      <th>Annual_Income</th>\n",
              "      <td>0</td>\n",
              "    </tr>\n",
              "    <tr>\n",
              "      <th>Number_of_Claims</th>\n",
              "      <td>0</td>\n",
              "    </tr>\n",
              "    <tr>\n",
              "      <th>Total_Claim_Amount</th>\n",
              "      <td>0</td>\n",
              "    </tr>\n",
              "    <tr>\n",
              "      <th>Policy_Type</th>\n",
              "      <td>0</td>\n",
              "    </tr>\n",
              "    <tr>\n",
              "      <th>Marital_Status</th>\n",
              "      <td>0</td>\n",
              "    </tr>\n",
              "  </tbody>\n",
              "</table>\n",
              "</div><br><label><b>dtype:</b> int64</label>"
            ]
          },
          "metadata": {},
          "execution_count": 8
        }
      ]
    },
    {
      "cell_type": "code",
      "source": [
        "a=ic.iloc[:,[2,3]].values"
      ],
      "metadata": {
        "id": "ls1EDRR-rHvW"
      },
      "execution_count": 15,
      "outputs": []
    },
    {
      "cell_type": "code",
      "source": [
        "print(a)"
      ],
      "metadata": {
        "colab": {
          "base_uri": "https://localhost:8080/"
        },
        "id": "7icOg9O_snt1",
        "outputId": "fa1ce1cb-fc2e-456f-cebc-6146a2adf718"
      },
      "execution_count": 16,
      "outputs": [
        {
          "output_type": "stream",
          "name": "stdout",
          "text": [
            "[[ 25895      2]\n",
            " [ 39738      5]\n",
            " [ 50746      1]\n",
            " [ 69377      1]\n",
            " [ 68404      3]\n",
            " [ 74045      2]\n",
            " [117888      2]\n",
            " [ 59790      1]\n",
            " [ 25600      3]\n",
            " [114660      3]\n",
            " [113179      2]\n",
            " [ 60764      1]\n",
            " [ 94543      2]\n",
            " [ 65714      2]\n",
            " [ 76835      1]\n",
            " [ 93744      0]\n",
            " [ 76491      0]\n",
            " [ 38589      5]\n",
            " [ 63484      1]\n",
            " [102989      0]\n",
            " [ 56212      2]\n",
            " [ 63525      2]\n",
            " [ 67202      3]\n",
            " [ 52635      7]\n",
            " [ 83208      1]\n",
            " [ 53828      2]\n",
            " [ 38711      1]\n",
            " [ 23420      3]\n",
            " [116752      3]\n",
            " [ 20301      2]\n",
            " [ 65236      1]\n",
            " [ 86235      1]\n",
            " [ 74240      3]\n",
            " [ 85726      3]\n",
            " [ 30492      2]\n",
            " [ 26102      4]\n",
            " [ 70336      1]\n",
            " [105314      4]\n",
            " [ 46641      1]\n",
            " [ 54584      3]\n",
            " [ 52745      3]\n",
            " [ 43093      1]\n",
            " [ 86105      1]\n",
            " [ 71885      2]\n",
            " [ 56631      1]\n",
            " [ 92991      1]\n",
            " [ 24014      0]\n",
            " [ 31093      1]\n",
            " [ 38070      2]\n",
            " [ 55777      0]\n",
            " [ 76958      4]\n",
            " [102074      2]\n",
            " [ 30729      4]\n",
            " [119713      4]\n",
            " [ 65017      0]\n",
            " [ 86320      0]\n",
            " [ 47751      0]\n",
            " [ 98069      0]\n",
            " [ 74748      5]\n",
            " [ 25801      2]\n",
            " [ 39190      1]\n",
            " [ 69689      1]\n",
            " [ 70993      2]\n",
            " [ 49592      1]\n",
            " [ 30647      3]\n",
            " [ 28716      2]\n",
            " [108891      3]\n",
            " [107545      6]\n",
            " [109912      2]\n",
            " [ 90316      4]\n",
            " [ 22368      3]\n",
            " [ 97575      2]\n",
            " [ 26655      0]\n",
            " [ 90031      2]\n",
            " [ 96429      2]\n",
            " [111083      2]\n",
            " [107922      1]\n",
            " [ 75766      3]\n",
            " [ 33403      2]\n",
            " [ 52097      2]\n",
            " [ 98657      0]\n",
            " [ 30966      2]\n",
            " [119157      1]\n",
            " [113848      1]\n",
            " [ 72921      0]\n",
            " [ 69726      3]\n",
            " [ 70300      1]\n",
            " [ 42677      1]\n",
            " [ 75609      4]\n",
            " [116825      3]\n",
            " [ 76661      1]\n",
            " [ 51024      3]\n",
            " [ 90313      2]\n",
            " [ 73006      0]\n",
            " [115285      1]\n",
            " [ 35338      2]\n",
            " [ 88027      1]\n",
            " [112772      2]\n",
            " [100135      3]\n",
            " [ 39508      3]\n",
            " [ 23051      3]\n",
            " [ 68747      3]\n",
            " [107142      1]\n",
            " [107235      2]\n",
            " [ 74021      1]\n",
            " [ 86412      1]\n",
            " [ 78335      0]\n",
            " [ 76179      5]\n",
            " [ 52093      5]\n",
            " [ 89678      2]\n",
            " [100738      3]\n",
            " [ 59734      3]\n",
            " [ 92615      3]\n",
            " [ 93523      2]\n",
            " [114476      1]\n",
            " [ 37019      1]\n",
            " [103613      1]\n",
            " [111794      0]\n",
            " [106672      3]\n",
            " [ 93847      5]\n",
            " [102750      3]\n",
            " [ 99634      5]\n",
            " [ 48251      3]\n",
            " [ 45945      3]\n",
            " [110852      3]\n",
            " [ 52217      2]\n",
            " [ 28308      1]\n",
            " [ 25949      1]\n",
            " [ 71990      2]\n",
            " [ 21150      1]\n",
            " [109480      6]\n",
            " [ 94740      1]\n",
            " [ 86617      2]\n",
            " [114841      1]\n",
            " [ 36896      2]\n",
            " [ 66175      3]\n",
            " [ 27805      2]\n",
            " [ 25237      4]\n",
            " [ 40056      2]\n",
            " [ 65543      1]\n",
            " [ 76556      2]\n",
            " [ 23343      0]\n",
            " [ 33500      2]\n",
            " [ 73222      0]\n",
            " [ 49375      2]\n",
            " [ 29662      3]\n",
            " [ 36964      0]\n",
            " [ 79638      0]\n",
            " [ 93666      2]\n",
            " [105067      1]\n",
            " [ 87215      2]\n",
            " [ 89042      1]\n",
            " [ 33284      3]\n",
            " [ 92789      2]\n",
            " [104664      4]\n",
            " [113468      2]\n",
            " [ 81389      2]\n",
            " [ 29435      1]\n",
            " [ 74340      2]\n",
            " [ 64078      1]\n",
            " [ 98832      3]\n",
            " [ 71293      2]\n",
            " [115981      1]\n",
            " [ 98781      3]\n",
            " [ 80403      2]\n",
            " [ 49124      3]\n",
            " [115435      3]\n",
            " [ 63919      1]\n",
            " [ 55247      1]\n",
            " [114758      3]\n",
            " [111747      5]\n",
            " [ 82752      1]\n",
            " [ 76573      2]\n",
            " [ 79101      6]\n",
            " [ 46646      3]\n",
            " [ 43049      1]\n",
            " [ 99605      0]\n",
            " [118116      3]\n",
            " [117379      5]\n",
            " [ 88385      2]\n",
            " [ 60158      3]\n",
            " [ 85417      4]\n",
            " [ 43289      3]\n",
            " [ 29823      3]\n",
            " [ 80160      1]\n",
            " [ 61975      2]\n",
            " [ 29540      6]\n",
            " [ 36364      0]\n",
            " [ 24611      3]\n",
            " [ 47663      1]\n",
            " [ 71991      2]\n",
            " [ 77679      4]\n",
            " [ 50977      2]\n",
            " [114704      2]\n",
            " [ 69115      1]\n",
            " [111007      6]\n",
            " [108223      1]\n",
            " [ 80890      1]\n",
            " [ 86387      1]\n",
            " [ 38071      3]]\n"
          ]
        }
      ]
    },
    {
      "cell_type": "code",
      "source": [
        "wcss=[]\n",
        "for i in range(1,11):\n",
        "  kmeans=KMeans(n_clusters=i,init='k-means++',random_state=2)\n",
        "  kmeans.fit(a)\n",
        "  wcss.append(kmeans.inertia_)"
      ],
      "metadata": {
        "id": "6HawQnfus3eE"
      },
      "execution_count": 17,
      "outputs": []
    },
    {
      "cell_type": "code",
      "source": [
        "kmeans=KMeans(n_clusters=3,init='k-means++',random_state=0)\n",
        "insu=kmeans.fit_predict(a)\n",
        "print(insu)"
      ],
      "metadata": {
        "colab": {
          "base_uri": "https://localhost:8080/"
        },
        "id": "Jb90kTBHtblO",
        "outputId": "2c9d70fd-1abe-4ea7-88ce-7a2ba2bd6ee3"
      },
      "execution_count": 18,
      "outputs": [
        {
          "output_type": "stream",
          "name": "stdout",
          "text": [
            "[1 1 1 0 0 0 2 0 1 2 2 0 2 0 0 2 0 1 0 2 1 0 0 1 0 1 1 1 2 1 0 0 0 0 1 1 0\n",
            " 2 1 1 1 1 0 0 1 2 1 1 1 1 0 2 1 2 0 0 1 2 0 1 1 0 0 1 1 1 2 2 2 0 1 2 1 0\n",
            " 2 2 2 0 1 1 2 1 2 2 0 0 0 1 0 2 0 1 0 0 2 1 0 2 2 1 1 0 2 2 0 0 0 0 1 0 2\n",
            " 0 2 2 2 1 2 2 2 2 2 2 1 1 2 1 1 1 0 1 2 2 0 2 1 0 1 1 1 0 0 1 1 0 1 1 1 0\n",
            " 2 2 0 0 1 2 2 2 0 1 0 0 2 0 2 2 0 1 2 0 1 2 2 0 0 0 1 1 2 2 2 0 0 0 1 1 0\n",
            " 0 1 1 1 1 0 0 1 2 0 2 2 0 0 1]\n"
          ]
        }
      ]
    },
    {
      "cell_type": "code",
      "source": [
        "b=kmeans.fit_predict(a)\n",
        "ic['cluster']=b"
      ],
      "metadata": {
        "id": "kI4hjcCOuIxk"
      },
      "execution_count": 20,
      "outputs": []
    },
    {
      "cell_type": "code",
      "source": [
        "plt.figure(figsize=(5,5))\n",
        "plt.scatter(a[b==0,0],a[b==0,1],s=50,c='red',label='Low')\n",
        "plt.scatter(a[b==1,0],a[b==1,1],s=50,c='blue',label='High')\n",
        "plt.scatter(a[b==2,0],a[b==2,1],s=50,c='yellow',label='Medium')\n",
        "plt.scatter(a[b==3,0],a[b==3,1],s=50,c='coral',label='Extra high')\n",
        "plt.scatter(a[b==4,0],a[b==4,1],s=50,c='green',label='Extra low')\n",
        "plt.title(\"Customer Insurance\")\n",
        "plt.xlabel('Annual income')\n",
        "plt.ylabel('Spending score')\n",
        "plt.legend()\n",
        "plt.show()"
      ],
      "metadata": {
        "colab": {
          "base_uri": "https://localhost:8080/",
          "height": 487
        },
        "id": "PWJuj4ofub1T",
        "outputId": "e6e42ac7-7f03-4063-a6bf-2c4d3fd87399"
      },
      "execution_count": 21,
      "outputs": [
        {
          "output_type": "display_data",
          "data": {
            "text/plain": [
              "<Figure size 500x500 with 1 Axes>"
            ],
            "image/png": "[encoded data removed]"
          },
          "metadata": {}
        }
      ]
    },
    {
      "cell_type": "code",
      "source": [
        "v=pd.Series(insu).value_counts()\n",
        "plt.figure(figsize=(5,5))\n",
        "plt.pie(v,labels=v.index,autopct='%1.2f%%')\n",
        "plt.title('Customer Insurance')\n",
        "plt.show()"
      ],
      "metadata": {
        "colab": {
          "base_uri": "https://localhost:8080/",
          "height": 444
        },
        "id": "CZ3KiCJuwe5s",
        "outputId": "bb2293ab-808f-4dc5-c582-d1e5d758ff15"
      },
      "execution_count": 24,
      "outputs": [
        {
          "output_type": "display_data",
          "data": {
            "text/plain": [
              "<Figure size 500x500 with 1 Axes>"
            ],
            "image/png": "[encoded data removed]"
          },
          "metadata": {}
        }
      ]
    },
    {
      "cell_type": "code",
      "source": [
        "sns.set()\n",
        "plt.plot(range(1,11),wcss)\n",
        "plt.title('The Elbow Method')\n",
        "plt.xlabel('Number of clusters')\n",
        "plt.ylabel('WCSS')\n",
        "plt.show()"
      ],
      "metadata": {
        "colab": {
          "base_uri": "https://localhost:8080/",
          "height": 480
        },
        "id": "iBm49yoNxpdD",
        "outputId": "dd644e60-7d3f-4d7b-f99e-4c9cd9ae5c29"
      },
      "execution_count": 25,
      "outputs": [
        {
          "output_type": "display_data",
          "data": {
            "text/plain": [
              "<Figure size 640x480 with 1 Axes>"
            ],
            "image/png": "[encoded data removed]"
          },
          "metadata": {}
        }
      ]
    }
  ]
}